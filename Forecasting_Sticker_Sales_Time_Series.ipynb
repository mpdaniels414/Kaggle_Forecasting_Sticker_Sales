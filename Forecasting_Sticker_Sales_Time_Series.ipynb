{
 "cells": [
  {
   "cell_type": "markdown",
   "source": [
    "**Project Documentation: Time Series Analysis**\n",
    "-------\n",
    "**Objective:**\n",
    "Using the information gained from the EDA work, we can now complete the prediction task at hand.   "
   ],
   "metadata": {
    "collapsed": false
   },
   "id": "84b98a0753d7e873"
  },
  {
   "cell_type": "code",
   "execution_count": 15,
   "id": "initial_id",
   "metadata": {
    "collapsed": true,
    "ExecuteTime": {
     "end_time": "2025-01-10T20:47:54.365883Z",
     "start_time": "2025-01-10T20:47:54.320881800Z"
    }
   },
   "outputs": [],
   "source": [
    "import pandas as pd\n",
    "import matplotlib.pyplot as plt\n",
    "from statsmodels.tsa.stattools import adfuller\n",
    "from statsmodels.tsa.arima.model import ARIMA\n",
    "from statsmodels.graphics.tsaplots import plot_acf, plot_pacf\n",
    "from pmdarima import auto_arima"
   ]
  },
  {
   "cell_type": "code",
   "execution_count": 16,
   "outputs": [
    {
     "name": "stdout",
     "output_type": "stream",
     "text": [
      "Requirement already satisfied: pmdarima in c:\\users\\maggi\\anaconda3\\lib\\site-packages (2.0.4)\n",
      "Requirement already satisfied: joblib>=0.11 in c:\\users\\maggi\\anaconda3\\lib\\site-packages (from pmdarima) (1.3.2)\n",
      "Requirement already satisfied: Cython!=0.29.18,!=0.29.31,>=0.29 in c:\\users\\maggi\\anaconda3\\lib\\site-packages (from pmdarima) (3.0.11)\n",
      "Requirement already satisfied: numpy>=1.21.2 in c:\\users\\maggi\\appdata\\roaming\\python\\python39\\site-packages (from pmdarima) (1.26.4)\n",
      "Requirement already satisfied: pandas>=0.19 in c:\\users\\maggi\\anaconda3\\lib\\site-packages (from pmdarima) (1.5.3)\n",
      "Requirement already satisfied: scikit-learn>=0.22 in c:\\users\\maggi\\anaconda3\\lib\\site-packages (from pmdarima) (1.3.2)\n",
      "Requirement already satisfied: scipy>=1.3.2 in c:\\users\\maggi\\anaconda3\\lib\\site-packages (from pmdarima) (1.11.3)\n",
      "Requirement already satisfied: statsmodels>=0.13.2 in c:\\users\\maggi\\anaconda3\\lib\\site-packages (from pmdarima) (0.14.0)\n",
      "Requirement already satisfied: urllib3 in c:\\users\\maggi\\anaconda3\\lib\\site-packages (from pmdarima) (1.26.18)\n",
      "Requirement already satisfied: setuptools!=50.0.0,>=38.6.0 in c:\\users\\maggi\\anaconda3\\lib\\site-packages (from pmdarima) (68.0.0)\n",
      "Requirement already satisfied: packaging>=17.1 in c:\\users\\maggi\\anaconda3\\lib\\site-packages (from pmdarima) (23.1)\n",
      "Requirement already satisfied: python-dateutil>=2.8.1 in c:\\users\\maggi\\anaconda3\\lib\\site-packages (from pandas>=0.19->pmdarima) (2.8.2)\n",
      "Requirement already satisfied: pytz>=2020.1 in c:\\users\\maggi\\anaconda3\\lib\\site-packages (from pandas>=0.19->pmdarima) (2023.3.post1)\n",
      "Requirement already satisfied: threadpoolctl>=2.0.0 in c:\\users\\maggi\\anaconda3\\lib\\site-packages (from scikit-learn>=0.22->pmdarima) (3.2.0)\n",
      "Requirement already satisfied: patsy>=0.5.2 in c:\\users\\maggi\\anaconda3\\lib\\site-packages (from statsmodels>=0.13.2->pmdarima) (0.5.3)\n",
      "Requirement already satisfied: six in c:\\users\\maggi\\anaconda3\\lib\\site-packages (from patsy>=0.5.2->statsmodels>=0.13.2->pmdarima) (1.16.0)\n",
      "Note: you may need to restart the kernel to use updated packages.\n"
     ]
    },
    {
     "name": "stderr",
     "output_type": "stream",
     "text": [
      "WARNING: There was an error checking the latest version of pip.\n"
     ]
    }
   ],
   "source": [
    "pip install pmdarima"
   ],
   "metadata": {
    "collapsed": false,
    "ExecuteTime": {
     "end_time": "2025-01-10T20:47:56.611157900Z",
     "start_time": "2025-01-10T20:47:54.338883200Z"
    }
   },
   "id": "e721aba8c6ca773"
  },
  {
   "cell_type": "code",
   "execution_count": 17,
   "outputs": [],
   "source": [
    "# Load the data\n",
    "train = pd.read_csv('data/train.csv')\n",
    "test = pd.read_csv('data/test.csv')"
   ],
   "metadata": {
    "collapsed": false,
    "ExecuteTime": {
     "end_time": "2025-01-10T20:47:56.810158500Z",
     "start_time": "2025-01-10T20:47:56.607161400Z"
    }
   },
   "id": "a04300ad805f2295"
  },
  {
   "cell_type": "code",
   "execution_count": 18,
   "outputs": [],
   "source": [
    "train['date'] = pd.to_datetime(train['date'])\n",
    "train['year'] = pd.to_datetime(train['date']).dt.year\n",
    "train['month'] = pd.to_datetime(train['date']).dt.month\n",
    "train['day'] = pd.to_datetime(train['date']).dt.day"
   ],
   "metadata": {
    "collapsed": false,
    "ExecuteTime": {
     "end_time": "2025-01-10T20:47:56.887158200Z",
     "start_time": "2025-01-10T20:47:56.812158800Z"
    }
   },
   "id": "4e95673035ca46d0"
  },
  {
   "cell_type": "code",
   "execution_count": 19,
   "outputs": [],
   "source": [
    "df = train"
   ],
   "metadata": {
    "collapsed": false,
    "ExecuteTime": {
     "end_time": "2025-01-10T20:47:56.903158500Z",
     "start_time": "2025-01-10T20:47:56.888162400Z"
    }
   },
   "id": "5b7129f3179da9ff"
  },
  {
   "cell_type": "code",
   "execution_count": 20,
   "outputs": [
    {
     "data": {
      "text/plain": "        date country              store             product  num_sold  year  \\\n1 2010-01-01  Canada  Discount Stickers              Kaggle     973.0  2010   \n2 2010-01-01  Canada  Discount Stickers        Kaggle Tiers     906.0  2010   \n3 2010-01-01  Canada  Discount Stickers            Kerneler     423.0  2010   \n4 2010-01-01  Canada  Discount Stickers  Kerneler Dark Mode     491.0  2010   \n5 2010-01-01  Canada  Stickers for Less   Holographic Goose     300.0  2010   \n\n   month  day            product_country  \\\n1      1    1              Kaggle_Canada   \n2      1    1        Kaggle Tiers_Canada   \n3      1    1            Kerneler_Canada   \n4      1    1  Kerneler Dark Mode_Canada   \n5      1    1   Holographic Goose_Canada   \n\n                          product_store             country_store  \n1              Kaggle_Discount Stickers  Canada_Discount Stickers  \n2        Kaggle Tiers_Discount Stickers  Canada_Discount Stickers  \n3            Kerneler_Discount Stickers  Canada_Discount Stickers  \n4  Kerneler Dark Mode_Discount Stickers  Canada_Discount Stickers  \n5   Holographic Goose_Stickers for Less  Canada_Stickers for Less  ",
      "text/html": "<div>\n<style scoped>\n    .dataframe tbody tr th:only-of-type {\n        vertical-align: middle;\n    }\n\n    .dataframe tbody tr th {\n        vertical-align: top;\n    }\n\n    .dataframe thead th {\n        text-align: right;\n    }\n</style>\n<table border=\"1\" class=\"dataframe\">\n  <thead>\n    <tr style=\"text-align: right;\">\n      <th></th>\n      <th>date</th>\n      <th>country</th>\n      <th>store</th>\n      <th>product</th>\n      <th>num_sold</th>\n      <th>year</th>\n      <th>month</th>\n      <th>day</th>\n      <th>product_country</th>\n      <th>product_store</th>\n      <th>country_store</th>\n    </tr>\n  </thead>\n  <tbody>\n    <tr>\n      <th>1</th>\n      <td>2010-01-01</td>\n      <td>Canada</td>\n      <td>Discount Stickers</td>\n      <td>Kaggle</td>\n      <td>973.0</td>\n      <td>2010</td>\n      <td>1</td>\n      <td>1</td>\n      <td>Kaggle_Canada</td>\n      <td>Kaggle_Discount Stickers</td>\n      <td>Canada_Discount Stickers</td>\n    </tr>\n    <tr>\n      <th>2</th>\n      <td>2010-01-01</td>\n      <td>Canada</td>\n      <td>Discount Stickers</td>\n      <td>Kaggle Tiers</td>\n      <td>906.0</td>\n      <td>2010</td>\n      <td>1</td>\n      <td>1</td>\n      <td>Kaggle Tiers_Canada</td>\n      <td>Kaggle Tiers_Discount Stickers</td>\n      <td>Canada_Discount Stickers</td>\n    </tr>\n    <tr>\n      <th>3</th>\n      <td>2010-01-01</td>\n      <td>Canada</td>\n      <td>Discount Stickers</td>\n      <td>Kerneler</td>\n      <td>423.0</td>\n      <td>2010</td>\n      <td>1</td>\n      <td>1</td>\n      <td>Kerneler_Canada</td>\n      <td>Kerneler_Discount Stickers</td>\n      <td>Canada_Discount Stickers</td>\n    </tr>\n    <tr>\n      <th>4</th>\n      <td>2010-01-01</td>\n      <td>Canada</td>\n      <td>Discount Stickers</td>\n      <td>Kerneler Dark Mode</td>\n      <td>491.0</td>\n      <td>2010</td>\n      <td>1</td>\n      <td>1</td>\n      <td>Kerneler Dark Mode_Canada</td>\n      <td>Kerneler Dark Mode_Discount Stickers</td>\n      <td>Canada_Discount Stickers</td>\n    </tr>\n    <tr>\n      <th>5</th>\n      <td>2010-01-01</td>\n      <td>Canada</td>\n      <td>Stickers for Less</td>\n      <td>Holographic Goose</td>\n      <td>300.0</td>\n      <td>2010</td>\n      <td>1</td>\n      <td>1</td>\n      <td>Holographic Goose_Canada</td>\n      <td>Holographic Goose_Stickers for Less</td>\n      <td>Canada_Stickers for Less</td>\n    </tr>\n  </tbody>\n</table>\n</div>"
     },
     "execution_count": 20,
     "metadata": {},
     "output_type": "execute_result"
    }
   ],
   "source": [
    "df = df.drop(['id'], axis = 1)\n",
    "df = df.dropna()\n",
    "df['product_country'] = df['product'] + \"_\" + df['country']\n",
    "df['product_store'] = df['product'] + \"_\" + df['store']\n",
    "df['country_store'] = df['country'] + \"_\" + df['store']\n",
    "df.head(5)"
   ],
   "metadata": {
    "collapsed": false,
    "ExecuteTime": {
     "end_time": "2025-01-10T20:47:57.028995700Z",
     "start_time": "2025-01-10T20:47:56.905161500Z"
    }
   },
   "id": "42a2e3966dc3c44a"
  },
  {
   "cell_type": "code",
   "execution_count": 30,
   "outputs": [
    {
     "data": {
      "text/plain": "  country              store product       date  num_sold  year  month  day  \\\n0  Canada  Discount Stickers  Kaggle 2010-01-01     973.0     0      1    1   \n1  Canada  Discount Stickers  Kaggle 2010-01-02     881.0     0      1    2   \n2  Canada  Discount Stickers  Kaggle 2010-01-03    1003.0     0      1    3   \n3  Canada  Discount Stickers  Kaggle 2010-01-04     744.0     0      1    4   \n4  Canada  Discount Stickers  Kaggle 2010-01-05     707.0     0      1    5   \n\n  product_country             product_store             country_store  \n0   Kaggle_Canada  Kaggle_Discount Stickers  Canada_Discount Stickers  \n1   Kaggle_Canada  Kaggle_Discount Stickers  Canada_Discount Stickers  \n2   Kaggle_Canada  Kaggle_Discount Stickers  Canada_Discount Stickers  \n3   Kaggle_Canada  Kaggle_Discount Stickers  Canada_Discount Stickers  \n4   Kaggle_Canada  Kaggle_Discount Stickers  Canada_Discount Stickers  ",
      "text/html": "<div>\n<style scoped>\n    .dataframe tbody tr th:only-of-type {\n        vertical-align: middle;\n    }\n\n    .dataframe tbody tr th {\n        vertical-align: top;\n    }\n\n    .dataframe thead th {\n        text-align: right;\n    }\n</style>\n<table border=\"1\" class=\"dataframe\">\n  <thead>\n    <tr style=\"text-align: right;\">\n      <th></th>\n      <th>country</th>\n      <th>store</th>\n      <th>product</th>\n      <th>date</th>\n      <th>num_sold</th>\n      <th>year</th>\n      <th>month</th>\n      <th>day</th>\n      <th>product_country</th>\n      <th>product_store</th>\n      <th>country_store</th>\n    </tr>\n  </thead>\n  <tbody>\n    <tr>\n      <th>0</th>\n      <td>Canada</td>\n      <td>Discount Stickers</td>\n      <td>Kaggle</td>\n      <td>2010-01-01</td>\n      <td>973.0</td>\n      <td>0</td>\n      <td>1</td>\n      <td>1</td>\n      <td>Kaggle_Canada</td>\n      <td>Kaggle_Discount Stickers</td>\n      <td>Canada_Discount Stickers</td>\n    </tr>\n    <tr>\n      <th>1</th>\n      <td>Canada</td>\n      <td>Discount Stickers</td>\n      <td>Kaggle</td>\n      <td>2010-01-02</td>\n      <td>881.0</td>\n      <td>0</td>\n      <td>1</td>\n      <td>2</td>\n      <td>Kaggle_Canada</td>\n      <td>Kaggle_Discount Stickers</td>\n      <td>Canada_Discount Stickers</td>\n    </tr>\n    <tr>\n      <th>2</th>\n      <td>Canada</td>\n      <td>Discount Stickers</td>\n      <td>Kaggle</td>\n      <td>2010-01-03</td>\n      <td>1003.0</td>\n      <td>0</td>\n      <td>1</td>\n      <td>3</td>\n      <td>Kaggle_Canada</td>\n      <td>Kaggle_Discount Stickers</td>\n      <td>Canada_Discount Stickers</td>\n    </tr>\n    <tr>\n      <th>3</th>\n      <td>Canada</td>\n      <td>Discount Stickers</td>\n      <td>Kaggle</td>\n      <td>2010-01-04</td>\n      <td>744.0</td>\n      <td>0</td>\n      <td>1</td>\n      <td>4</td>\n      <td>Kaggle_Canada</td>\n      <td>Kaggle_Discount Stickers</td>\n      <td>Canada_Discount Stickers</td>\n    </tr>\n    <tr>\n      <th>4</th>\n      <td>Canada</td>\n      <td>Discount Stickers</td>\n      <td>Kaggle</td>\n      <td>2010-01-05</td>\n      <td>707.0</td>\n      <td>0</td>\n      <td>1</td>\n      <td>5</td>\n      <td>Kaggle_Canada</td>\n      <td>Kaggle_Discount Stickers</td>\n      <td>Canada_Discount Stickers</td>\n    </tr>\n  </tbody>\n</table>\n</div>"
     },
     "execution_count": 30,
     "metadata": {},
     "output_type": "execute_result"
    }
   ],
   "source": [
    "aggregated_df = df.groupby(['country', 'store', 'product', 'date'])['num_sold'].sum().reset_index()\n",
    "\n",
    "# Add year, month, and day columns\n",
    "aggregated_df['year'] = aggregated_df['date'].dt.year-2010\n",
    "aggregated_df['month'] = aggregated_df['date'].dt.month\n",
    "aggregated_df['day'] = aggregated_df['date'].dt.day\n",
    "\n",
    "# Create new combined columns\n",
    "aggregated_df['product_country'] = aggregated_df['product'] + \"_\" + aggregated_df['country']\n",
    "aggregated_df['product_store'] = aggregated_df['product'] + \"_\" + aggregated_df['store']\n",
    "aggregated_df['country_store'] = aggregated_df['country'] + \"_\" + aggregated_df['store']\n",
    "\n",
    "# Display the first few rows of the transformed data\n",
    "aggregated_df.head(5)"
   ],
   "metadata": {
    "collapsed": false,
    "ExecuteTime": {
     "end_time": "2025-01-10T21:10:52.369226500Z",
     "start_time": "2025-01-10T21:10:52.170228400Z"
    }
   },
   "id": "923da28b33d6a2ed"
  },
  {
   "cell_type": "code",
   "execution_count": 25,
   "outputs": [
    {
     "name": "stdout",
     "output_type": "stream",
     "text": [
      "ADF Statistic: -38.363257171917105\n",
      "p-value: 0.0\n"
     ]
    }
   ],
   "source": [
    "# Step 1: Prepare the data\n",
    "aggregated_df.set_index('date', inplace=True)  # Set 'date' as the index\n",
    "aggregated_df.sort_index(inplace=True)  # Ensure data is sorted by date\n",
    "\n",
    "# Use 'num_sold' for time-series analysis\n",
    "time_series = aggregated_df['num_sold']\n",
    "\n",
    "# Step 2: Check for stationarity\n",
    "from statsmodels.tsa.stattools import adfuller\n",
    "\n",
    "adf_test = adfuller(time_series.dropna())  # Handle any missing values\n",
    "print(\"ADF Statistic:\", adf_test[0])\n",
    "print(\"p-value:\", adf_test[1])\n",
    "if adf_test[1] > 0.05:\n",
    "    print(\"Series is not stationary. Applying differencing.\")\n",
    "    time_series = time_series.diff().dropna()  # Apply differencing if needed"
   ],
   "metadata": {
    "collapsed": false,
    "ExecuteTime": {
     "end_time": "2025-01-10T20:51:48.343304800Z",
     "start_time": "2025-01-10T20:50:44.858735300Z"
    }
   },
   "id": "a2fb93a2081b0b60"
  },
  {
   "cell_type": "code",
   "execution_count": 26,
   "outputs": [
    {
     "name": "stdout",
     "output_type": "stream",
     "text": [
      "Performing stepwise search to minimize aic\n",
      " ARIMA(2,1,2)(0,0,0)[0] intercept   : AIC=inf, Time=131.74 sec\n",
      " ARIMA(0,1,0)(0,0,0)[0] intercept   : AIC=3674259.382, Time=2.42 sec\n",
      " ARIMA(1,1,0)(0,0,0)[0] intercept   : AIC=3610236.086, Time=3.05 sec\n",
      " ARIMA(0,1,1)(0,0,0)[0] intercept   : AIC=inf, Time=51.92 sec\n",
      " ARIMA(0,1,0)(0,0,0)[0]             : AIC=3674257.382, Time=1.22 sec\n",
      " ARIMA(2,1,0)(0,0,0)[0] intercept   : AIC=3584026.298, Time=4.06 sec\n",
      " ARIMA(3,1,0)(0,0,0)[0] intercept   : AIC=3569418.408, Time=5.04 sec\n",
      " ARIMA(4,1,0)(0,0,0)[0] intercept   : AIC=3560175.387, Time=13.78 sec\n",
      " ARIMA(5,1,0)(0,0,0)[0] intercept   : AIC=3554044.450, Time=16.63 sec\n",
      " ARIMA(5,1,1)(0,0,0)[0] intercept   : AIC=inf, Time=219.75 sec\n",
      " ARIMA(4,1,1)(0,0,0)[0] intercept   : AIC=inf, Time=190.63 sec\n",
      " ARIMA(5,1,0)(0,0,0)[0]             : AIC=3554042.450, Time=8.08 sec\n",
      " ARIMA(4,1,0)(0,0,0)[0]             : AIC=3560173.387, Time=6.58 sec\n",
      " ARIMA(5,1,1)(0,0,0)[0]             : AIC=inf, Time=147.05 sec\n",
      " ARIMA(4,1,1)(0,0,0)[0]             : AIC=inf, Time=106.98 sec\n",
      "\n",
      "Best model:  ARIMA(5,1,0)(0,0,0)[0]          \n",
      "Total fit time: 908.997 seconds\n",
      "                               SARIMAX Results                                \n",
      "==============================================================================\n",
      "Dep. Variable:                      y   No. Observations:               221259\n",
      "Model:               SARIMAX(5, 1, 0)   Log Likelihood            -1777015.225\n",
      "Date:                Fri, 10 Jan 2025   AIC                        3554042.450\n",
      "Time:                        15:06:57   BIC                        3554104.293\n",
      "Sample:                             0   HQIC                       3554060.572\n",
      "                             - 221259                                         \n",
      "Covariance Type:                  opg                                         \n",
      "==============================================================================\n",
      "                 coef    std err          z      P>|z|      [0.025      0.975]\n",
      "------------------------------------------------------------------------------\n",
      "ar.L1         -0.8379      0.002   -416.878      0.000      -0.842      -0.834\n",
      "ar.L2         -0.6721      0.003   -264.416      0.000      -0.677      -0.667\n",
      "ar.L3         -0.5052      0.003   -187.088      0.000      -0.511      -0.500\n",
      "ar.L4         -0.3353      0.003   -131.706      0.000      -0.340      -0.330\n",
      "ar.L5         -0.1653      0.002    -82.265      0.000      -0.169      -0.161\n",
      "sigma2       5.54e+05   1209.057    458.226      0.000    5.52e+05    5.56e+05\n",
      "===================================================================================\n",
      "Ljung-Box (L1) (Q):                 122.28   Jarque-Bera (JB):             70899.51\n",
      "Prob(Q):                              0.00   Prob(JB):                         0.00\n",
      "Heteroskedasticity (H):               0.75   Skew:                             1.06\n",
      "Prob(H) (two-sided):                  0.00   Kurtosis:                         4.80\n",
      "===================================================================================\n",
      "\n",
      "Warnings:\n",
      "[1] Covariance matrix calculated using the outer product of gradients (complex-step).\n"
     ]
    },
    {
     "name": "stderr",
     "output_type": "stream",
     "text": [
      "C:\\Users\\maggi\\anaconda3\\lib\\site-packages\\statsmodels\\tsa\\base\\tsa_model.py:473: ValueWarning: A date index has been provided, but it has no associated frequency information and so will be ignored when e.g. forecasting.\n",
      "  self._init_dates(dates, freq)\n",
      "C:\\Users\\maggi\\anaconda3\\lib\\site-packages\\statsmodels\\tsa\\base\\tsa_model.py:473: ValueWarning: A date index has been provided, but it has no associated frequency information and so will be ignored when e.g. forecasting.\n",
      "  self._init_dates(dates, freq)\n",
      "C:\\Users\\maggi\\anaconda3\\lib\\site-packages\\statsmodels\\tsa\\base\\tsa_model.py:473: ValueWarning: A date index has been provided, but it has no associated frequency information and so will be ignored when e.g. forecasting.\n",
      "  self._init_dates(dates, freq)\n"
     ]
    },
    {
     "name": "stdout",
     "output_type": "stream",
     "text": [
      "                               SARIMAX Results                                \n",
      "==============================================================================\n",
      "Dep. Variable:               num_sold   No. Observations:               221259\n",
      "Model:                 ARIMA(5, 1, 0)   Log Likelihood            -1777015.225\n",
      "Date:                Fri, 10 Jan 2025   AIC                        3554042.450\n",
      "Time:                        15:07:40   BIC                        3554104.293\n",
      "Sample:                             0   HQIC                       3554060.572\n",
      "                             - 221259                                         \n",
      "Covariance Type:                  opg                                         \n",
      "==============================================================================\n",
      "                 coef    std err          z      P>|z|      [0.025      0.975]\n",
      "------------------------------------------------------------------------------\n",
      "ar.L1         -0.8379      0.002   -416.878      0.000      -0.842      -0.834\n",
      "ar.L2         -0.6721      0.003   -264.416      0.000      -0.677      -0.667\n",
      "ar.L3         -0.5052      0.003   -187.088      0.000      -0.511      -0.500\n",
      "ar.L4         -0.3353      0.003   -131.706      0.000      -0.340      -0.330\n",
      "ar.L5         -0.1653      0.002    -82.265      0.000      -0.169      -0.161\n",
      "sigma2       5.54e+05   1209.057    458.226      0.000    5.52e+05    5.56e+05\n",
      "===================================================================================\n",
      "Ljung-Box (L1) (Q):                 122.28   Jarque-Bera (JB):             70899.51\n",
      "Prob(Q):                              0.00   Prob(JB):                         0.00\n",
      "Heteroskedasticity (H):               0.75   Skew:                             1.06\n",
      "Prob(H) (two-sided):                  0.00   Kurtosis:                         4.80\n",
      "===================================================================================\n",
      "\n",
      "Warnings:\n",
      "[1] Covariance matrix calculated using the outer product of gradients (complex-step).\n"
     ]
    }
   ],
   "source": [
    "# Step 3: Fit ARIMA model\n",
    "# Automatically determine ARIMA parameters\n",
    "stepwise_fit = auto_arima(time_series, seasonal=False, trace=True, suppress_warnings=True)\n",
    "print(stepwise_fit.summary())\n",
    "\n",
    "# Fit the ARIMA model with the optimal parameters\n",
    "model = ARIMA(time_series, order=stepwise_fit.order)\n",
    "model_fit = model.fit()\n",
    "print(model_fit.summary())"
   ],
   "metadata": {
    "collapsed": false,
    "ExecuteTime": {
     "end_time": "2025-01-10T21:08:13.910171400Z",
     "start_time": "2025-01-10T20:51:48.345304300Z"
    }
   },
   "id": "c640d1a82d8cbcb6"
  },
  {
   "cell_type": "code",
   "execution_count": 27,
   "outputs": [
    {
     "name": "stdout",
     "output_type": "stream",
     "text": [
      "Forecast for next 10 steps:\n",
      " 221259    636.369432\n",
      "221260    661.570497\n",
      "221261    657.100850\n",
      "221262    749.205285\n",
      "221263    707.463488\n",
      "221264    786.052261\n",
      "221265    699.057503\n",
      "221266    710.073377\n",
      "221267    718.376463\n",
      "221268    728.518134\n",
      "Name: predicted_mean, dtype: float64\n"
     ]
    },
    {
     "name": "stderr",
     "output_type": "stream",
     "text": [
      "C:\\Users\\maggi\\anaconda3\\lib\\site-packages\\statsmodels\\tsa\\base\\tsa_model.py:836: ValueWarning: No supported index is available. Prediction results will be given with an integer index beginning at `start`.\n",
      "  return get_prediction_index(\n",
      "C:\\Users\\maggi\\anaconda3\\lib\\site-packages\\statsmodels\\tsa\\base\\tsa_model.py:836: FutureWarning: No supported index is available. In the next version, calling this method in a model without a supported index will result in an exception.\n",
      "  return get_prediction_index(\n"
     ]
    }
   ],
   "source": [
    "# Step 4: Forecast\n",
    "forecast_steps = 10  # Define how many steps to forecast\n",
    "forecast = model_fit.forecast(steps=forecast_steps)\n",
    "print(f\"Forecast for next {forecast_steps} steps:\\n\", forecast)"
   ],
   "metadata": {
    "collapsed": false,
    "ExecuteTime": {
     "end_time": "2025-01-10T21:08:13.956186300Z",
     "start_time": "2025-01-10T21:08:13.914171100Z"
    }
   },
   "id": "85a708c65ac6989b"
  },
  {
   "cell_type": "code",
   "execution_count": 29,
   "outputs": [
    {
     "name": "stderr",
     "output_type": "stream",
     "text": [
      "C:\\Users\\maggi\\anaconda3\\lib\\site-packages\\statsmodels\\tsa\\base\\tsa_model.py:473: ValueWarning: A date index has been provided, but it has no associated frequency information and so will be ignored when e.g. forecasting.\n",
      "  self._init_dates(dates, freq)\n",
      "C:\\Users\\maggi\\anaconda3\\lib\\site-packages\\statsmodels\\tsa\\base\\tsa_model.py:473: ValueWarning: A date index has been provided, but it has no associated frequency information and so will be ignored when e.g. forecasting.\n",
      "  self._init_dates(dates, freq)\n",
      "C:\\Users\\maggi\\anaconda3\\lib\\site-packages\\statsmodels\\tsa\\base\\tsa_model.py:473: ValueWarning: A date index has been provided, but it has no associated frequency information and so will be ignored when e.g. forecasting.\n",
      "  self._init_dates(dates, freq)\n",
      "C:\\Users\\maggi\\anaconda3\\lib\\site-packages\\statsmodels\\tsa\\base\\tsa_model.py:836: ValueWarning: No supported index is available. Prediction results will be given with an integer index beginning at `start`.\n",
      "  return get_prediction_index(\n",
      "C:\\Users\\maggi\\anaconda3\\lib\\site-packages\\statsmodels\\tsa\\base\\tsa_model.py:836: FutureWarning: No supported index is available. In the next version, calling this method in a model without a supported index will result in an exception.\n",
      "  return get_prediction_index(\n"
     ]
    },
    {
     "name": "stdout",
     "output_type": "stream",
     "text": [
      "MAPE on test data: 373.88%\n"
     ]
    }
   ],
   "source": [
    "from sklearn.metrics import mean_absolute_percentage_error\n",
    "\n",
    "\n",
    "# Step 5: Evaluate the model\n",
    "# Split data into training and test sets (optional for evaluation)\n",
    "train_size = int(len(time_series) * 0.8)\n",
    "train, test = time_series[:train_size], time_series[train_size:]\n",
    "model = ARIMA(train, order=stepwise_fit.order).fit()\n",
    "forecast_test = model.forecast(steps=len(test))\n",
    "mape = mean_absolute_percentage_error(test, forecast_test)\n",
    "\n",
    "print(f\"MAPE on test data: {mape:.2%}\")"
   ],
   "metadata": {
    "collapsed": false,
    "ExecuteTime": {
     "end_time": "2025-01-10T21:10:24.513657100Z",
     "start_time": "2025-01-10T21:10:17.314658100Z"
    }
   },
   "id": "5428e6ab330d918f"
  },
  {
   "cell_type": "code",
   "execution_count": null,
   "outputs": [],
   "source": [],
   "metadata": {
    "collapsed": false
   },
   "id": "b02cad12cad446c3"
  }
 ],
 "metadata": {
  "kernelspec": {
   "display_name": "Python 3",
   "language": "python",
   "name": "python3"
  },
  "language_info": {
   "codemirror_mode": {
    "name": "ipython",
    "version": 2
   },
   "file_extension": ".py",
   "mimetype": "text/x-python",
   "name": "python",
   "nbconvert_exporter": "python",
   "pygments_lexer": "ipython2",
   "version": "2.7.6"
  }
 },
 "nbformat": 4,
 "nbformat_minor": 5
}
